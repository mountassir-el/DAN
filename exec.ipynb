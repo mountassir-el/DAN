{
 "cells": [
  {
   "cell_type": "code",
   "execution_count": 31,
   "metadata": {},
   "outputs": [],
   "source": [
    "from manage_exp import get_x0\n",
    "from lin2d_exp import x_dim, sigma0, b_size, k, sigmap\n",
    "from filters import Lin2d, Constructor\n",
    "\n",
    "import matplotlib.pyplot as plt\n",
    "import numpy as np\n",
    "import torch\n"
   ]
  },
  {
   "cell_type": "code",
   "execution_count": 2,
   "metadata": {},
   "outputs": [],
   "source": [
    "def log_message(message):\n",
    "    print(message)\n",
    "    print(\"-\" * len(message) + \"\\n\")"
   ]
  },
  {
   "cell_type": "markdown",
   "metadata": {},
   "source": [
    "## 1- Prepare dataset for DAN"
   ]
  },
  {
   "cell_type": "markdown",
   "metadata": {},
   "source": [
    "### 1.1- Linear 2d : periodic Hamiltonian dynamics"
   ]
  },
  {
   "cell_type": "markdown",
   "metadata": {},
   "source": [
    "* Initialize x0 by using the function get_x0."
   ]
  },
  {
   "cell_type": "code",
   "execution_count": 3,
   "metadata": {},
   "outputs": [
    {
     "name": "stdout",
     "output_type": "stream",
     "text": [
      "la valeur de x0 est :\n",
      "---------------------\n",
      "\n",
      "tensor([[2.9926, 2.9995],\n",
      "        [2.9847, 2.9794]])\n"
     ]
    }
   ],
   "source": [
    "# initialize x0\n",
    "# \n",
    "# Note :\n",
    "# ------\n",
    "# Instead of mb we can use b_size.\n",
    "\n",
    "mb = 2 \n",
    "x0 = get_x0(mb, x_dim, sigma0)\n",
    "\n",
    "log_message(\"la valeur de x0 est :\")\n",
    "print(x0)"
   ]
  },
  {
   "cell_type": "markdown",
   "metadata": {},
   "source": [
    "* Make a figure to show the dynamics of xt for t ≤ 50, staring from a random initialization\n",
    "of x0. Use mb = 2 to show two simulations."
   ]
  },
  {
   "cell_type": "code",
   "execution_count": 4,
   "metadata": {},
   "outputs": [
    {
     "data": {
      "image/png": "[encoded data removed]",
      "text/plain": [
       "<Figure size 432x288 with 1 Axes>"
      ]
     },
     "metadata": {
      "needs_background": "light"
     },
     "output_type": "display_data"
    }
   ],
   "source": [
    "linear_2d = Lin2d(x_dim, 0, 0, 0)\n",
    "\n",
    "N = 50\n",
    "\n",
    "x = x0\n",
    "x_values = torch.zeros((N, mb, x_dim))\n",
    "\n",
    "for i in range(N):\n",
    "    # store current value of x\n",
    "    x_values[i] = linear_2d.forward(x)\n",
    "\n",
    "    # update x\n",
    "    x = x_values[i]\n",
    "\n",
    "fig = plt.figure()\n",
    "for simulation_idx in range(mb):\n",
    "    x_axis = x_values[:, simulation_idx, 0]\n",
    "    y_axis = x_values[:, simulation_idx, 1]\n",
    "\n",
    "    color = np.random.randint(low=0, high=255, size=3)\n",
    "    plt.scatter(x_axis, y_axis)\n",
    "plt.show()"
   ]
  },
  {
   "cell_type": "markdown",
   "metadata": {},
   "source": [
    "### 1.2- Integration with DAN"
   ]
  },
  {
   "cell_type": "code",
   "execution_count": 11,
   "metadata": {},
   "outputs": [
    {
     "name": "stdout",
     "output_type": "stream",
     "text": [
      "propagator :\n",
      "------------\n",
      "\n",
      "Constructor(\n",
      "  (loc): Lin2d()\n",
      "  (scale_vec): Cst()\n",
      ")\n",
      "\n",
      "observer :\n",
      "----------\n",
      "\n",
      "Constructor(\n",
      "  (loc): Id()\n",
      "  (scale_vec): Cst()\n",
      ")\n"
     ]
    }
   ],
   "source": [
    "propagator = Constructor(**k[\"prop_kwargs\"])\n",
    "observer = Constructor(**k[\"obs_kwargs\"])\n",
    "\n",
    "log_message(\"propagator :\")\n",
    "print(propagator)\n",
    "\n",
    "print()\n",
    "\n",
    "log_message(\"observer :\")\n",
    "print(observer)"
   ]
  },
  {
   "cell_type": "markdown",
   "metadata": {},
   "source": [
    "* In order to generate x_t+1, you will sample a Gaussian distribution N (M . x_t, σ_p . I)"
   ]
  },
  {
   "cell_type": "code",
   "execution_count": 46,
   "metadata": {},
   "outputs": [
    {
     "data": {
      "text/plain": [
       "tensor([[3.0894, 3.0916],\n",
       "        [2.8893, 2.8774]])"
      ]
     },
     "execution_count": 46,
     "metadata": {},
     "output_type": "execute_result"
    }
   ],
   "source": [
    "def generate_gaussian(mean, std):\n",
    "    return torch.normal(mean, std)\n",
    "\n",
    "I = torch.eye(x_dim)\n",
    "M = propagator._modules[\"loc\"].M \n",
    "\n",
    "mean = torch.matmul(M, x0)\n",
    "std = sigmap * I\n",
    "\n",
    "generate_gaussian(mean, std)"
   ]
  },
  {
   "cell_type": "markdown",
   "metadata": {},
   "source": [
    "* In the linear 2d case, make a figure to show the dynamics of y_t for t ≤ 50, staring from\n",
    "a random initialization of x0. Use mb = 2 to show two simulations."
   ]
  },
  {
   "cell_type": "code",
   "execution_count": 52,
   "metadata": {},
   "outputs": [
    {
     "data": {
      "image/png": "[encoded data removed]",
      "text/plain": [
       "<Figure size 432x288 with 1 Axes>"
      ]
     },
     "metadata": {
      "needs_background": "light"
     },
     "output_type": "display_data"
    },
    {
     "data": {
      "image/png": "[encoded data removed]",
      "text/plain": [
       "<Figure size 432x288 with 1 Axes>"
      ]
     },
     "metadata": {
      "needs_background": "light"
     },
     "output_type": "display_data"
    }
   ],
   "source": [
    "N = 50\n",
    "\n",
    "x = x0\n",
    "x_values = torch.zeros((N, mb, x_dim))\n",
    "y_values = torch.zeros((N, mb, x_dim))\n",
    "\n",
    "for i in range(N):\n",
    "    # store current value of x and y\n",
    "    x_values[i] = propagator._modules[\"loc\"].forward(x)\n",
    "    y_values[i] = observer._modules[\"loc\"].forward(x)\n",
    "\n",
    "    # update x and y\n",
    "    x = x_values[i]\n",
    "    y = y_values[i]\n",
    "\n",
    "fig = plt.figure()\n",
    "for simulation_idx in range(mb):\n",
    "    x_axis = x_values[:, simulation_idx, 0]\n",
    "    y_axis = x_values[:, simulation_idx, 1]\n",
    "\n",
    "    color = np.random.randint(low=0, high=255, size=3)\n",
    "    plt.scatter(x_axis, y_axis)\n",
    "plt.show()\n",
    "\n",
    "fig = plt.figure()\n",
    "for simulation_idx in range(mb):\n",
    "    x_axis = y_values[:, simulation_idx, 0]\n",
    "    y_axis = y_values[:, simulation_idx, 1]\n",
    "\n",
    "    color = np.random.randint(low=0, high=255, size=3)\n",
    "    plt.scatter(x_axis, y_axis)\n",
    "plt.show()"
   ]
  },
  {
   "cell_type": "code",
   "execution_count": null,
   "metadata": {},
   "outputs": [],
   "source": []
  }
 ],
 "metadata": {
  "interpreter": {
   "hash": "916dbcbb3f70747c44a77c7bcd40155683ae19c65e1c03b4aa3499c5328201f1"
  },
  "kernelspec": {
   "display_name": "Python 3.8.10 64-bit",
   "language": "python",
   "name": "python3"
  },
  "language_info": {
   "codemirror_mode": {
    "name": "ipython",
    "version": 3
   },
   "file_extension": ".py",
   "mimetype": "text/x-python",
   "name": "python",
   "nbconvert_exporter": "python",
   "pygments_lexer": "ipython3",
   "version": "3.8.10"
  },
  "orig_nbformat": 4
 },
 "nbformat": 4,
 "nbformat_minor": 2
}
