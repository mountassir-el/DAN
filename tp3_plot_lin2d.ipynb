{
 "cells": [
  {
   "cell_type": "code",
   "execution_count": 3,
   "metadata": {},
   "outputs": [
    {
     "name": "stdout",
     "output_type": "stream",
     "text": [
      "use gpu False\n",
      "use tensor_type double\n"
     ]
    }
   ],
   "source": [
    "import matplotlib.pyplot as plt\n",
    "import torch\n",
    "from manage_exp import set_tensor_type\n",
    "\n",
    "cuda = False #  torch.cuda.is_available()\n",
    "tensor_type = 'double' # 'double'\n",
    "set_tensor_type(tensor_type,cuda)\n",
    "\n",
    "import filters\n",
    "from manage_exp import get_x0\n",
    "from lin2d_exp import get_params\n",
    "\n",
    "exp_params = get_params()\n",
    "#print(exp_params)"
   ]
  },
  {
   "cell_type": "code",
   "execution_count": 2,
   "metadata": {},
   "outputs": [
    {
     "name": "stdout",
     "output_type": "stream",
     "text": [
      "empirical mean of x0 is tensor([3.0079, 3.0029])\n"
     ]
    },
    {
     "data": {
      "image/png": "[encoded data removed]",
      "text/plain": [
       "<Figure size 432x288 with 1 Axes>"
      ]
     },
     "metadata": {
      "needs_background": "light"
     },
     "output_type": "display_data"
    }
   ],
   "source": [
    "train_kwargs = exp_params['train_kwargs']\n",
    "prop_kwargs = exp_params['prop_kwargs']\n",
    "obs_kwargs = exp_params['obs_kwargs']\n",
    "prop = filters.Constructor(**prop_kwargs)\n",
    "obs = filters.Constructor(**obs_kwargs)\n",
    "\n",
    "b_size = 2 # train_kwargs['b_size']\n",
    "h_dim = train_kwargs['h_dim']\n",
    "x_dim = train_kwargs['x_dim']\n",
    "T = 100 # train_kwargs['T']\n",
    "\n",
    "sigma = exp_params['sigma0']\n",
    "x0 = get_x0(b_size, x_dim, sigma)\n",
    "xt = [None]\n",
    "yt = [None]\n",
    "x = x0\n",
    "plt.plot(x0[0,0].item(),x0[0,1].item(),'r.')\n",
    "for t in range(1,T+1):\n",
    "    x = prop(x)\\\n",
    "            .sample(sample_shape=torch.Size([1]))\\\n",
    "            .squeeze(0)\n",
    "        #print('x norm',x.norm())\n",
    "\n",
    "    y = obs(x)\\\n",
    "            .sample(sample_shape=torch.Size([1]))\\\n",
    "            .squeeze(0)\n",
    "    xt.append(x)\n",
    "    yt.append(y)\n",
    "    plt.plot(y[0,0].item(),y[0,1].item(),'bo')\n",
    "    plt.plot(x[0,0].item(),x[0,1].item(),'r.')\n",
    "\n",
    "plt.legend(['true','obs'])\n",
    "print('empirical mean of x0 is', torch.mean(x0,0))"
   ]
  },
  {
   "cell_type": "code",
   "execution_count": null,
   "metadata": {},
   "outputs": [],
   "source": [
    "# IN filters\n",
    "class Gaussian(Mvn):\n",
    "    \"\"\"\n",
    "    Return a pytorch Gaussian pdf from args\n",
    "    args is either a (loc, scale_tril) or a (x_dim, vec)\n",
    "    \"\"\"\n",
    "    def __init__(self, *args):\n",
    "        self.minexp = torch.Tensor([-8.0])\n",
    "        self.maxexp = torch.Tensor([8.0])\n",
    "        if isinstance(args[0], int):\n",
    "            \"\"\"args is a (x_dim, vec)\n",
    "            loc is the first x_dim coeff of vec\n",
    "            if the rest is one coeff c then\n",
    "                scale_tril = e^c*I\n",
    "            else\n",
    "                scale_tril is filled diagonal by diagonal\n",
    "                starting by the main one\n",
    "                (which is exponentiated to ensure strict positivity)\n",
    "            \"\"\"\n",
    "            x_dim, vec = args\n",
    "            vec_dim = vec.size(-1)\n",
    "            if vec_dim == x_dim + 1:\n",
    "                #print('Init Mvn by x_dim+1')\n",
    "                loc = vec[:, :x_dim]\n",
    "                scale_tril = torch.eye(x_dim)\\\n",
    "                                  .unsqueeze(0)\\\n",
    "                                  .expand(vec.size(0), -1, -1)\n",
    "                scale_tril = torch.exp(vec[:, x_dim])\\\n",
    "                                  .view(vec.size(0), 1, 1)*scale_tril\n",
    "            else:\n",
    "                #print('Init Mvn by inds')\n",
    "                scale_tril = torch.zeros(vec.size(0), x_dim, x_dim)\n",
    "                # TODO use vec_to_inds\n",
    "                \n",
    "            Mvn.__init__(self, loc=loc, scale_tril=scale_tril)\n",
    "        \n",
    "        else:\n",
    "            \"\"\"args is a loc, scale_tril\n",
    "            \"\"\"\n",
    "            print('Init Mvn by full arg')\n",
    "            Mvn.__init__(self, loc=args[0], scale_tril=args[1])\n",
    "\n",
    "    def vec_to_inds(self, x_dim, vec_dim):\n",
    "        \"\"\"Computes the indices of scale_tril coeffs,\n",
    "        scale_tril is filled main diagonal first\n",
    "\n",
    "        x_dim: dimension of the random variable\n",
    "        vec_dim: dimension of the vector containing\n",
    "                 the coeffs of loc and scale_tril\n",
    "        \"\"\"\n",
    "        ldiag, d, c = x_dim, 0, 0  # diag length, diag index, column index\n",
    "        inds = [[], []]  # list of line and column indexes\n",
    "        for i in range(vec_dim - x_dim):  # loop over the non-mean coeff\n",
    "            inds[0].append(c+d)  # line index\n",
    "            inds[1].append(c)  # column index\n",
    "            if c == ldiag-1:  # the current diag end is reached\n",
    "                ldiag += -1  # the diag length is decremented\n",
    "                c = 0  # the column index is reinitialized\n",
    "                d += 1  # the diag index is incremented\n",
    "            else:  # otherwize, only the column index is incremented\n",
    "                c += 1\n",
    "        return inds"
   ]
  }
 ],
 "metadata": {
  "kernelspec": {
   "display_name": "Python 3",
   "language": "python",
   "name": "python3"
  },
  "language_info": {
   "codemirror_mode": {
    "name": "ipython",
    "version": 3
   },
   "file_extension": ".py",
   "mimetype": "text/x-python",
   "name": "python",
   "nbconvert_exporter": "python",
   "pygments_lexer": "ipython3",
   "version": "3.6.10"
  }
 },
 "nbformat": 4,
 "nbformat_minor": 5
}
